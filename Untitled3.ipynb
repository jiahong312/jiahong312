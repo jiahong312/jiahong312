{
  "nbformat": 4,
  "nbformat_minor": 0,
  "metadata": {
    "colab": {
      "provenance": [],
      "authorship_tag": "ABX9TyNgRPRzj+m1jvAFsjfZPwqn",
      "include_colab_link": true
    },
    "kernelspec": {
      "name": "python3",
      "display_name": "Python 3"
    },
    "language_info": {
      "name": "python"
    }
  },
  "cells": [
    {
      "cell_type": "markdown",
      "metadata": {
        "id": "view-in-github",
        "colab_type": "text"
      },
      "source": [
        "<a href=\"https://colab.research.google.com/github/jiahong312/jiahong312/blob/main/Untitled3.ipynb\" target=\"_parent\"><img src=\"https://colab.research.google.com/assets/colab-badge.svg\" alt=\"Open In Colab\"/></a>"
      ]
    },
    {
      "cell_type": "code",
      "execution_count": null,
      "metadata": {
        "colab": {
          "base_uri": "https://localhost:8080/"
        },
        "id": "LWxXtISpS67C",
        "outputId": "369d473b-3f74-4b76-b268-1c974e147199"
      },
      "outputs": [
        {
          "output_type": "stream",
          "name": "stdout",
          "text": [
            "input : 0 9 8 7 6 5 4 3 2 1\n",
            "['0', '9', '8', '7', '6', '5', '4', '3', '2', '1']\n",
            "['0', '9', '8', '7', '6', '5', '4', '3', '2', '1']\n",
            "['0', '8', '9', '7', '6', '5', '4', '3', '2', '1']\n",
            "['0', '7', '8', '9', '6', '5', '4', '3', '2', '1']\n",
            "['0', '6', '7', '8', '9', '5', '4', '3', '2', '1']\n",
            "['0', '5', '6', '7', '8', '9', '4', '3', '2', '1']\n",
            "['0', '4', '5', '6', '7', '8', '9', '3', '2', '1']\n",
            "['0', '3', '4', '5', '6', '7', '8', '9', '2', '1']\n",
            "['0', '2', '3', '4', '5', '6', '7', '8', '9', '1']\n",
            "['0', '1', '2', '3', '4', '5', '6', '7', '8', '9']\n"
          ]
        }
      ],
      "source": [
        "#insertion \n",
        "arr =list(input('input : ').split())\n",
        "for j in range(0, len(arr)):\n",
        "    i = j - 1\n",
        "    key = arr[j]\n",
        "    while key < arr[i] and i >= 0:\n",
        "        arr[i + 1] = arr[i]\n",
        "        i -= 1\n",
        "    arr[i + 1] = key\n",
        "    print(arr)\n"
      ]
    },
    {
      "cell_type": "code",
      "source": [
        "#insertion \n",
        "arr =list(input('input : ').split())\n",
        "for j in range(1, len(arr)):\n",
        "    print(arr)\n",
        "    i = j - 1\n",
        "    key = arr[j]\n",
        "    while key < arr[i] and i >= 0:\n",
        "        arr[i + 1] = arr[i]\n",
        "        i -= 1\n",
        "    arr[i + 1] = key\n",
        "      "
      ],
      "metadata": {
        "colab": {
          "base_uri": "https://localhost:8080/"
        },
        "id": "0zzX7bCMTyIU",
        "outputId": "dcb32403-dd68-48a1-dc9d-e7ff3e249919"
      },
      "execution_count": null,
      "outputs": [
        {
          "output_type": "stream",
          "name": "stdout",
          "text": [
            "input : 0 9 8 7 6 5 4 3 2 1\n",
            "['0', '9', '8', '7', '6', '5', '4', '3', '2', '1']\n",
            "['0', '9', '8', '7', '6', '5', '4', '3', '2', '1']\n",
            "['0', '8', '9', '7', '6', '5', '4', '3', '2', '1']\n",
            "['0', '7', '8', '9', '6', '5', '4', '3', '2', '1']\n",
            "['0', '6', '7', '8', '9', '5', '4', '3', '2', '1']\n",
            "['0', '5', '6', '7', '8', '9', '4', '3', '2', '1']\n",
            "['0', '4', '5', '6', '7', '8', '9', '3', '2', '1']\n",
            "['0', '3', '4', '5', '6', '7', '8', '9', '2', '1']\n",
            "['0', '2', '3', '4', '5', '6', '7', '8', '9', '1']\n"
          ]
        }
      ]
    },
    {
      "cell_type": "code",
      "source": [
        "print('hello world')"
      ],
      "metadata": {
        "id": "3SHMuPp-uaGi",
        "outputId": "5c55470e-330d-40db-817e-db656fb0d51c",
        "colab": {
          "base_uri": "https://localhost:8080/"
        }
      },
      "execution_count": null,
      "outputs": [
        {
          "output_type": "stream",
          "name": "stdout",
          "text": [
            "hello world\n"
          ]
        }
      ]
    },
    {
      "cell_type": "code",
      "source": [
        "import requests\n",
        "from bs4 import BeautifulSoup\n",
        "\n",
        "r = requests.get(\"https://www.ptt.cc/bbs/C_Chat/M.1680160311.A.655.html\") #將網頁資料GET下來\n",
        "soup = BeautifulSoup(r.text,\"html.parser\") #將網頁資料以html.parser\n",
        "sel = soup.select(\"div.push \") #取HTML標中的 <div class=\"title\"></div> 中的<a>標籤存入sel\n",
        "for s in sel:\n",
        "    print(s.text) "
      ],
      "metadata": {
        "id": "V8YDUNbVudy8",
        "colab": {
          "base_uri": "https://localhost:8080/"
        },
        "outputId": "6ec13c38-2695-4d68-9b70-1ccacef40b57"
      },
      "execution_count": null,
      "outputs": [
        {
          "output_type": "stream",
          "name": "stdout",
          "text": [
            "→ qsx889: 農？抱歉了 2023的gbf價值是課 03/30 15:12\n",
            "\n",
            "→ Xavy: 難道只有我沒艾蕾了嗎.. 03/30 15:13\n",
            "\n",
            "推 aboutak47: 只有重課跟無課兩條路走囉 03/30 15:13\n",
            "\n",
            "推 qaz95677: 對 以前這遊戲的優點就是不謀財只害命 現在 03/30 15:14\n",
            "\n",
            "推 tsubasawolfy: 新時代~ 03/30 15:14\n",
            "\n",
            "推 D2Diyus: 謝謝 被噁心到了 03/30 15:14\n",
            "\n",
            "推 lav1147: 這兩年的免費武器，九柱神用處不大，機神除了水風外其他 03/30 15:15\n",
            "\n",
            "→ ts01232165: 想當年十天眾保值 讚讚讚 03/30 15:15\n",
            "\n",
            "推 qsx889: 好笑的是現在那票高難 第一個出的機神刀發現做太強 後面的 03/30 15:15\n",
            "\n",
            "→ qsx889: 武器一隻比一隻垃圾 現在根本變農沙本 03/30 15:15\n",
            "\n",
            "推 willclow: 打古戰 打高難 能過就好 課金只是更快而已 玩GBF的精髓 03/30 15:15\n",
            "\n",
            "→ willclow: 就是妥協 什麼都要最強 那你的荷包要夠深啊... 03/30 15:15\n",
            "\n",
            "→ lav1147: 都不好用，還真的是沒啥好農的，喔~忘記現在得農沙漏了 03/30 15:16\n",
            "\n",
            "推 lolicon0101: #ぺこら以下 03/30 15:16\n",
            "\n",
            "→ Barrel: 94要快阿 摸抖嗨雅苦 03/30 15:16\n",
            "\n",
            "→ lav1147: 不過現在GBF也沒啥高難可玩，除了古戰就是古戰，不追求 03/30 15:16\n",
            "\n",
            "→ lav1147: 頂裝的話還算是蠻悠閒的 03/30 15:16\n",
            "\n",
            "推 dragonnight: 不追求最頂真的悠閒，現在就每天共鬥自發7哥 03/30 15:18\n",
            "\n",
            "推 tsubasawolfy: 沙漏多農點 賢者武終解還要吃呢 03/30 15:18\n",
            "\n",
            "推 chen31502: 暗方陣（4把限定） 03/30 15:19\n",
            "\n",
            "推 ZealZhang: 現在最新的免費盤是把7哥劍插滿嗎 03/30 15:19\n",
            "\n",
            "→ willclow: 強習慣了，回不去了，接受不了抄不了最頂作業事實 03/30 15:19\n",
            "\n",
            "→ qqq3892005: 大概就是有課玩家跟Pro玩家之間有一個區域是沒什麼回 03/30 15:19\n",
            "\n",
            "→ qqq3892005: 饋感提升。當然是不用追求Pro，只是這樣的話就真的很 03/30 15:19\n",
            "\n",
            "→ qqq3892005: 悠閒 03/30 15:19\n",
            "\n",
            "→ qqq3892005: 會有種小時候努力農2.0方陣比較快樂的感覺QQ 03/30 15:20\n",
            "\n",
            "→ willclow: 實話看很多抱怨文，都感覺是pro騎空士，但荷包不夠深的 03/30 15:20\n",
            "\n",
            "→ willclow: 那種 03/30 15:20\n",
            "\n",
            "→ max83111: 反正心態躺平就會發現不用追求那些東西也能玩 也不是不 03/30 15:20\n",
            "\n",
            "→ max83111: 打hell200古戰就保不住8萬線 就算打不到8萬其實也只是 03/30 15:20\n",
            "\n",
            "→ max83111: 勳章-25而且 仔細想想根本沒差 03/30 15:20\n",
            "\n",
            "→ chen31502: 後面不管高難還是古戰 幾乎都是要跟上不然就超難打啊 03/30 15:21\n",
            "\n",
            "推 converse0201: 乾脆轉成FA人 什麼手動配置都不想抄了 03/30 15:22\n",
            "\n",
            "推 dragonnight: 主要還是給自己設定目標吧，當然不用想追上那些最頂 03/30 15:22\n",
            "\n",
            "→ dragonnight: 的，輕鬆玩這遊戲還是不錯 03/30 15:22\n",
            "\n",
            "→ qqq3892005: FA最棒惹 03/30 15:22\n",
            "\n",
            "→ qqq3892005: 小精靈職業是還滿有趣的 現在幾乎都換她快樂FA 近期 03/30 15:23\n",
            "\n",
            "→ qqq3892005: 最有感的快樂 03/30 15:23\n",
            "\n",
            "推 Solid4: 古戰牛的血量好幾年沒調高了，是後面的變難而已 03/30 15:23\n",
            "\n",
            "推 chen31502: 抄FA配置　打開YT(4把限定） 03/30 15:24\n",
            "\n",
            "→ converse0201: 真ㄉ 新職業好玩 03/30 15:24\n",
            "\n",
            "推 morichi: 季限+二限武 團長要求不多不抽滾蛋阿.jpg 03/30 15:24\n",
            "\n",
            "→ morichi: 欸恭喜 方陣也要抽 不然你要用柱神武? 03/30 15:24\n",
            "\n",
            "→ Solid4: 會要打到後面也是拚幾萬線，不然1T牛打滿ST也是有個保底 03/30 15:24\n",
            "\n",
            "→ qqq3892005: 牛現在很多作業教0鍵平A的 沒有的話就是累一點。不過 03/30 15:25\n",
            "\n",
            "→ qqq3892005: HL200真的幫大忙了，牛可以少打很多 03/30 15:25\n",
            "\n",
            "→ morichi: 弄到三把覺醒15 哈哈 與傷還差一萬 03/30 15:25\n",
            "\n",
            "推 d0922030: fa躺平人 躺久就退坑 轉盤才是真的 03/30 15:25\n",
            "\n",
            "→ max83111: 為啥要跟上 超級巴開幾年了 2還3嗎 一場都沒打過古戰還 03/30 15:26\n",
            "\n",
            "→ max83111: 是8萬內阿  上次風古沒巫妖風方陣打150還是一樣進了 反 03/30 15:26\n",
            "\n",
            "→ max83111: 正都只是在fa而已 盤子裡面只有萬年不變的鼓勵姆琴和杖 03/30 15:26\n",
            "\n",
            "推 Whocare587: 有什麼好農的,不就都在擠金本而已 03/30 15:28\n",
            "\n",
            "→ s50189: 躺平人在所有手遊幾乎都能生存下去啊 久了當然是會去找下 03/30 15:30\n",
            "\n",
            "→ s50189: 一款更對口味的沒有在繼續躺XD 03/30 15:30\n",
            "\n",
            "→ s50189: 不過通常都是去人多玩的滿足交流慾 03/30 15:31\n",
            "\n",
            "→ s50189: 望 03/30 15:31\n",
            "\n",
            "推 Raynor: 沒要打古戰英雄不用課吧，8萬內方陣一樣進得去 03/30 15:31\n",
            "\n"
          ]
        }
      ]
    },
    {
      "cell_type": "code",
      "source": [
        "import requests\n",
        "\n",
        "url = 'https://opendata.cwb.gov.tw/api/v1/rest/datastore/F-C0032-001?Authorization=CWB-6B0B4349-1D03-401D-B597-A4FDF029877D&format=JSON'\n",
        "data = requests.get(url)   # 取得 JSON 檔案的內容為文字\n",
        "data_json = data.json()    # 轉換成 JSON 格式\n",
        "location = data_json['records']['location']\n",
        "for i in location:\n",
        "    city = i['locationName']    # 縣市名稱\n",
        "    wx8 = i['weatherElement'][0]['time'][0]['parameter']['parameterName']    # 天氣現象\n",
        "    maxt8 = i['weatherElement'][1]['time'][0]['parameter']['parameterName']  # 最高溫\n",
        "    mint8 = i['weatherElement'][2]['time'][0]['parameter']['parameterName']  # 最低溫\n",
        "    ci8 = i['weatherElement'][3]['time'][0]['parameter']['parameterName']    # 舒適度\n",
        "    pop8 = i['weatherElement'][4]['time'][0]['parameter']['parameterName']   # 降雨機率\n",
        "    print(f'{city}未來 8 小時{wx8}，最高溫 {maxt8} 度，最低溫 {mint8} 度，降雨機率 {pop8} %')"
      ],
      "metadata": {
        "colab": {
          "base_uri": "https://localhost:8080/"
        },
        "id": "omrzH-XURMAn",
        "outputId": "c9afbe89-3e21-4662-f211-d95d25990b40"
      },
      "execution_count": null,
      "outputs": [
        {
          "output_type": "stream",
          "name": "stdout",
          "text": [
            "{'success': 'true', 'result': {'resource_id': 'F-C0032-001', 'fields': [{'id': 'datasetDescription', 'type': 'String'}, {'id': 'locationName', 'type': 'String'}, {'id': 'parameterName', 'type': 'String'}, {'id': 'parameterValue', 'type': 'String'}, {'id': 'parameterUnit', 'type': 'String'}, {'id': 'startTime', 'type': 'Timestamp'}, {'id': 'endTime', 'type': 'Timestamp'}]}, 'records': {'datasetDescription': '三十六小時天氣預報', 'location': [{'locationName': '嘉義縣', 'weatherElement': [{'elementName': 'Wx', 'time': [{'startTime': '2023-03-30 12:00:00', 'endTime': '2023-03-30 18:00:00', 'parameter': {'parameterName': '晴時多雲', 'parameterValue': '2'}}, {'startTime': '2023-03-30 18:00:00', 'endTime': '2023-03-31 06:00:00', 'parameter': {'parameterName': '晴時多雲', 'parameterValue': '2'}}, {'startTime': '2023-03-31 06:00:00', 'endTime': '2023-03-31 18:00:00', 'parameter': {'parameterName': '多雲時晴', 'parameterValue': '3'}}]}, {'elementName': 'PoP', 'time': [{'startTime': '2023-03-30 12:00:00', 'endTime': '2023-03-30 18:00:00', 'parameter': {'parameterName': '10', 'parameterUnit': '百分比'}}, {'startTime': '2023-03-30 18:00:00', 'endTime': '2023-03-31 06:00:00', 'parameter': {'parameterName': '10', 'parameterUnit': '百分比'}}, {'startTime': '2023-03-31 06:00:00', 'endTime': '2023-03-31 18:00:00', 'parameter': {'parameterName': '10', 'parameterUnit': '百分比'}}]}, {'elementName': 'MinT', 'time': [{'startTime': '2023-03-30 12:00:00', 'endTime': '2023-03-30 18:00:00', 'parameter': {'parameterName': '23', 'parameterUnit': 'C'}}, {'startTime': '2023-03-30 18:00:00', 'endTime': '2023-03-31 06:00:00', 'parameter': {'parameterName': '18', 'parameterUnit': 'C'}}, {'startTime': '2023-03-31 06:00:00', 'endTime': '2023-03-31 18:00:00', 'parameter': {'parameterName': '18', 'parameterUnit': 'C'}}]}, {'elementName': 'CI', 'time': [{'startTime': '2023-03-30 12:00:00', 'endTime': '2023-03-30 18:00:00', 'parameter': {'parameterName': '舒適'}}, {'startTime': '2023-03-30 18:00:00', 'endTime': '2023-03-31 06:00:00', 'parameter': {'parameterName': '稍有寒意至舒適'}}, {'startTime': '2023-03-31 06:00:00', 'endTime': '2023-03-31 18:00:00', 'parameter': {'parameterName': '稍有寒意至舒適'}}]}, {'elementName': 'MaxT', 'time': [{'startTime': '2023-03-30 12:00:00', 'endTime': '2023-03-30 18:00:00', 'parameter': {'parameterName': '27', 'parameterUnit': 'C'}}, {'startTime': '2023-03-30 18:00:00', 'endTime': '2023-03-31 06:00:00', 'parameter': {'parameterName': '23', 'parameterUnit': 'C'}}, {'startTime': '2023-03-31 06:00:00', 'endTime': '2023-03-31 18:00:00', 'parameter': {'parameterName': '27', 'parameterUnit': 'C'}}]}]}, {'locationName': '新北市', 'weatherElement': [{'elementName': 'Wx', 'time': [{'startTime': '2023-03-30 12:00:00', 'endTime': '2023-03-30 18:00:00', 'parameter': {'parameterName': '陰天', 'parameterValue': '7'}}, {'startTime': '2023-03-30 18:00:00', 'endTime': '2023-03-31 06:00:00', 'parameter': {'parameterName': '陰時多雲', 'parameterValue': '6'}}, {'startTime': '2023-03-31 06:00:00', 'endTime': '2023-03-31 18:00:00', 'parameter': {'parameterName': '陰時多雲', 'parameterValue': '6'}}]}, {'elementName': 'PoP', 'time': [{'startTime': '2023-03-30 12:00:00', 'endTime': '2023-03-30 18:00:00', 'parameter': {'parameterName': '20', 'parameterUnit': '百分比'}}, {'startTime': '2023-03-30 18:00:00', 'endTime': '2023-03-31 06:00:00', 'parameter': {'parameterName': '20', 'parameterUnit': '百分比'}}, {'startTime': '2023-03-31 06:00:00', 'endTime': '2023-03-31 18:00:00', 'parameter': {'parameterName': '20', 'parameterUnit': '百分比'}}]}, {'elementName': 'MinT', 'time': [{'startTime': '2023-03-30 12:00:00', 'endTime': '2023-03-30 18:00:00', 'parameter': {'parameterName': '19', 'parameterUnit': 'C'}}, {'startTime': '2023-03-30 18:00:00', 'endTime': '2023-03-31 06:00:00', 'parameter': {'parameterName': '17', 'parameterUnit': 'C'}}, {'startTime': '2023-03-31 06:00:00', 'endTime': '2023-03-31 18:00:00', 'parameter': {'parameterName': '17', 'parameterUnit': 'C'}}]}, {'elementName': 'CI', 'time': [{'startTime': '2023-03-30 12:00:00', 'endTime': '2023-03-30 18:00:00', 'parameter': {'parameterName': '稍有寒意'}}, {'startTime': '2023-03-30 18:00:00', 'endTime': '2023-03-31 06:00:00', 'parameter': {'parameterName': '稍有寒意'}}, {'startTime': '2023-03-31 06:00:00', 'endTime': '2023-03-31 18:00:00', 'parameter': {'parameterName': '稍有寒意至舒適'}}]}, {'elementName': 'MaxT', 'time': [{'startTime': '2023-03-30 12:00:00', 'endTime': '2023-03-30 18:00:00', 'parameter': {'parameterName': '20', 'parameterUnit': 'C'}}, {'startTime': '2023-03-30 18:00:00', 'endTime': '2023-03-31 06:00:00', 'parameter': {'parameterName': '19', 'parameterUnit': 'C'}}, {'startTime': '2023-03-31 06:00:00', 'endTime': '2023-03-31 18:00:00', 'parameter': {'parameterName': '23', 'parameterUnit': 'C'}}]}]}, {'locationName': '嘉義市', 'weatherElement': [{'elementName': 'Wx', 'time': [{'startTime': '2023-03-30 12:00:00', 'endTime': '2023-03-30 18:00:00', 'parameter': {'parameterName': '晴時多雲', 'parameterValue': '2'}}, {'startTime': '2023-03-30 18:00:00', 'endTime': '2023-03-31 06:00:00', 'parameter': {'parameterName': '晴時多雲', 'parameterValue': '2'}}, {'startTime': '2023-03-31 06:00:00', 'endTime': '2023-03-31 18:00:00', 'parameter': {'parameterName': '多雲時晴', 'parameterValue': '3'}}]}, {'elementName': 'PoP', 'time': [{'startTime': '2023-03-30 12:00:00', 'endTime': '2023-03-30 18:00:00', 'parameter': {'parameterName': '10', 'parameterUnit': '百分比'}}, {'startTime': '2023-03-30 18:00:00', 'endTime': '2023-03-31 06:00:00', 'parameter': {'parameterName': '10', 'parameterUnit': '百分比'}}, {'startTime': '2023-03-31 06:00:00', 'endTime': '2023-03-31 18:00:00', 'parameter': {'parameterName': '20', 'parameterUnit': '百分比'}}]}, {'elementName': 'MinT', 'time': [{'startTime': '2023-03-30 12:00:00', 'endTime': '2023-03-30 18:00:00', 'parameter': {'parameterName': '23', 'parameterUnit': 'C'}}, {'startTime': '2023-03-30 18:00:00', 'endTime': '2023-03-31 06:00:00', 'parameter': {'parameterName': '18', 'parameterUnit': 'C'}}, {'startTime': '2023-03-31 06:00:00', 'endTime': '2023-03-31 18:00:00', 'parameter': {'parameterName': '18', 'parameterUnit': 'C'}}]}, {'elementName': 'CI', 'time': [{'startTime': '2023-03-30 12:00:00', 'endTime': '2023-03-30 18:00:00', 'parameter': {'parameterName': '舒適'}}, {'startTime': '2023-03-30 18:00:00', 'endTime': '2023-03-31 06:00:00', 'parameter': {'parameterName': '稍有寒意至舒適'}}, {'startTime': '2023-03-31 06:00:00', 'endTime': '2023-03-31 18:00:00', 'parameter': {'parameterName': '稍有寒意至舒適'}}]}, {'elementName': 'MaxT', 'time': [{'startTime': '2023-03-30 12:00:00', 'endTime': '2023-03-30 18:00:00', 'parameter': {'parameterName': '28', 'parameterUnit': 'C'}}, {'startTime': '2023-03-30 18:00:00', 'endTime': '2023-03-31 06:00:00', 'parameter': {'parameterName': '23', 'parameterUnit': 'C'}}, {'startTime': '2023-03-31 06:00:00', 'endTime': '2023-03-31 18:00:00', 'parameter': {'parameterName': '28', 'parameterUnit': 'C'}}]}]}, {'locationName': '新竹縣', 'weatherElement': [{'elementName': 'Wx', 'time': [{'startTime': '2023-03-30 12:00:00', 'endTime': '2023-03-30 18:00:00', 'parameter': {'parameterName': '陰時多雲', 'parameterValue': '6'}}, {'startTime': '2023-03-30 18:00:00', 'endTime': '2023-03-31 06:00:00', 'parameter': {'parameterName': '陰時多雲', 'parameterValue': '6'}}, {'startTime': '2023-03-31 06:00:00', 'endTime': '2023-03-31 18:00:00', 'parameter': {'parameterName': '晴時多雲', 'parameterValue': '2'}}]}, {'elementName': 'PoP', 'time': [{'startTime': '2023-03-30 12:00:00', 'endTime': '2023-03-30 18:00:00', 'parameter': {'parameterName': '20', 'parameterUnit': '百分比'}}, {'startTime': '2023-03-30 18:00:00', 'endTime': '2023-03-31 06:00:00', 'parameter': {'parameterName': '20', 'parameterUnit': '百分比'}}, {'startTime': '2023-03-31 06:00:00', 'endTime': '2023-03-31 18:00:00', 'parameter': {'parameterName': '20', 'parameterUnit': '百分比'}}]}, {'elementName': 'MinT', 'time': [{'startTime': '2023-03-30 12:00:00', 'endTime': '2023-03-30 18:00:00', 'parameter': {'parameterName': '19', 'parameterUnit': 'C'}}, {'startTime': '2023-03-30 18:00:00', 'endTime': '2023-03-31 06:00:00', 'parameter': {'parameterName': '17', 'parameterUnit': 'C'}}, {'startTime': '2023-03-31 06:00:00', 'endTime': '2023-03-31 18:00:00', 'parameter': {'parameterName': '17', 'parameterUnit': 'C'}}]}, {'elementName': 'CI', 'time': [{'startTime': '2023-03-30 12:00:00', 'endTime': '2023-03-30 18:00:00', 'parameter': {'parameterName': '稍有寒意至舒適'}}, {'startTime': '2023-03-30 18:00:00', 'endTime': '2023-03-31 06:00:00', 'parameter': {'parameterName': '稍有寒意'}}, {'startTime': '2023-03-31 06:00:00', 'endTime': '2023-03-31 18:00:00', 'parameter': {'parameterName': '稍有寒意至舒適'}}]}, {'elementName': 'MaxT', 'time': [{'startTime': '2023-03-30 12:00:00', 'endTime': '2023-03-30 18:00:00', 'parameter': {'parameterName': '21', 'parameterUnit': 'C'}}, {'startTime': '2023-03-30 18:00:00', 'endTime': '2023-03-31 06:00:00', 'parameter': {'parameterName': '19', 'parameterUnit': 'C'}}, {'startTime': '2023-03-31 06:00:00', 'endTime': '2023-03-31 18:00:00', 'parameter': {'parameterName': '23', 'parameterUnit': 'C'}}]}]}, {'locationName': '新竹市', 'weatherElement': [{'elementName': 'Wx', 'time': [{'startTime': '2023-03-30 12:00:00', 'endTime': '2023-03-30 18:00:00', 'parameter': {'parameterName': '陰天', 'parameterValue': '7'}}, {'startTime': '2023-03-30 18:00:00', 'endTime': '2023-03-31 06:00:00', 'parameter': {'parameterName': '多雲時陰', 'parameterValue': '5'}}, {'startTime': '2023-03-31 06:00:00', 'endTime': '2023-03-31 18:00:00', 'parameter': {'parameterName': '晴時多雲', 'parameterValue': '2'}}]}, {'elementName': 'PoP', 'time': [{'startTime': '2023-03-30 12:00:00', 'endTime': '2023-03-30 18:00:00', 'parameter': {'parameterName': '20', 'parameterUnit': '百分比'}}, {'startTime': '2023-03-30 18:00:00', 'endTime': '2023-03-31 06:00:00', 'parameter': {'parameterName': '20', 'parameterUnit': '百分比'}}, {'startTime': '2023-03-31 06:00:00', 'endTime': '2023-03-31 18:00:00', 'parameter': {'parameterName': '20', 'parameterUnit': '百分比'}}]}, {'elementName': 'MinT', 'time': [{'startTime': '2023-03-30 12:00:00', 'endTime': '2023-03-30 18:00:00', 'parameter': {'parameterName': '19', 'parameterUnit': 'C'}}, {'startTime': '2023-03-30 18:00:00', 'endTime': '2023-03-31 06:00:00', 'parameter': {'parameterName': '17', 'parameterUnit': 'C'}}, {'startTime': '2023-03-31 06:00:00', 'endTime': '2023-03-31 18:00:00', 'parameter': {'parameterName': '17', 'parameterUnit': 'C'}}]}, {'elementName': 'CI', 'time': [{'startTime': '2023-03-30 12:00:00', 'endTime': '2023-03-30 18:00:00', 'parameter': {'parameterName': '稍有寒意至舒適'}}, {'startTime': '2023-03-30 18:00:00', 'endTime': '2023-03-31 06:00:00', 'parameter': {'parameterName': '稍有寒意'}}, {'startTime': '2023-03-31 06:00:00', 'endTime': '2023-03-31 18:00:00', 'parameter': {'parameterName': '稍有寒意至舒適'}}]}, {'elementName': 'MaxT', 'time': [{'startTime': '2023-03-30 12:00:00', 'endTime': '2023-03-30 18:00:00', 'parameter': {'parameterName': '21', 'parameterUnit': 'C'}}, {'startTime': '2023-03-30 18:00:00', 'endTime': '2023-03-31 06:00:00', 'parameter': {'parameterName': '19', 'parameterUnit': 'C'}}, {'startTime': '2023-03-31 06:00:00', 'endTime': '2023-03-31 18:00:00', 'parameter': {'parameterName': '22', 'parameterUnit': 'C'}}]}]}, {'locationName': '臺北市', 'weatherElement': [{'elementName': 'Wx', 'time': [{'startTime': '2023-03-30 12:00:00', 'endTime': '2023-03-30 18:00:00', 'parameter': {'parameterName': '陰天', 'parameterValue': '7'}}, {'startTime': '2023-03-30 18:00:00', 'endTime': '2023-03-31 06:00:00', 'parameter': {'parameterName': '陰時多雲', 'parameterValue': '6'}}, {'startTime': '2023-03-31 06:00:00', 'endTime': '2023-03-31 18:00:00', 'parameter': {'parameterName': '陰時多雲', 'parameterValue': '6'}}]}, {'elementName': 'PoP', 'time': [{'startTime': '2023-03-30 12:00:00', 'endTime': '2023-03-30 18:00:00', 'parameter': {'parameterName': '20', 'parameterUnit': '百分比'}}, {'startTime': '2023-03-30 18:00:00', 'endTime': '2023-03-31 06:00:00', 'parameter': {'parameterName': '20', 'parameterUnit': '百分比'}}, {'startTime': '2023-03-31 06:00:00', 'endTime': '2023-03-31 18:00:00', 'parameter': {'parameterName': '20', 'parameterUnit': '百分比'}}]}, {'elementName': 'MinT', 'time': [{'startTime': '2023-03-30 12:00:00', 'endTime': '2023-03-30 18:00:00', 'parameter': {'parameterName': '18', 'parameterUnit': 'C'}}, {'startTime': '2023-03-30 18:00:00', 'endTime': '2023-03-31 06:00:00', 'parameter': {'parameterName': '16', 'parameterUnit': 'C'}}, {'startTime': '2023-03-31 06:00:00', 'endTime': '2023-03-31 18:00:00', 'parameter': {'parameterName': '16', 'parameterUnit': 'C'}}]}, {'elementName': 'CI', 'time': [{'startTime': '2023-03-30 12:00:00', 'endTime': '2023-03-30 18:00:00', 'parameter': {'parameterName': '稍有寒意'}}, {'startTime': '2023-03-30 18:00:00', 'endTime': '2023-03-31 06:00:00', 'parameter': {'parameterName': '稍有寒意'}}, {'startTime': '2023-03-31 06:00:00', 'endTime': '2023-03-31 18:00:00', 'parameter': {'parameterName': '稍有寒意至舒適'}}]}, {'elementName': 'MaxT', 'time': [{'startTime': '2023-03-30 12:00:00', 'endTime': '2023-03-30 18:00:00', 'parameter': {'parameterName': '20', 'parameterUnit': 'C'}}, {'startTime': '2023-03-30 18:00:00', 'endTime': '2023-03-31 06:00:00', 'parameter': {'parameterName': '18', 'parameterUnit': 'C'}}, {'startTime': '2023-03-31 06:00:00', 'endTime': '2023-03-31 18:00:00', 'parameter': {'parameterName': '22', 'parameterUnit': 'C'}}]}]}, {'locationName': '臺南市', 'weatherElement': [{'elementName': 'Wx', 'time': [{'startTime': '2023-03-30 12:00:00', 'endTime': '2023-03-30 18:00:00', 'parameter': {'parameterName': '晴時多雲', 'parameterValue': '2'}}, {'startTime': '2023-03-30 18:00:00', 'endTime': '2023-03-31 06:00:00', 'parameter': {'parameterName': '晴時多雲', 'parameterValue': '2'}}, {'startTime': '2023-03-31 06:00:00', 'endTime': '2023-03-31 18:00:00', 'parameter': {'parameterName': '多雲', 'parameterValue': '4'}}]}, {'elementName': 'PoP', 'time': [{'startTime': '2023-03-30 12:00:00', 'endTime': '2023-03-30 18:00:00', 'parameter': {'parameterName': '10', 'parameterUnit': '百分比'}}, {'startTime': '2023-03-30 18:00:00', 'endTime': '2023-03-31 06:00:00', 'parameter': {'parameterName': '10', 'parameterUnit': '百分比'}}, {'startTime': '2023-03-31 06:00:00', 'endTime': '2023-03-31 18:00:00', 'parameter': {'parameterName': '10', 'parameterUnit': '百分比'}}]}, {'elementName': 'MinT', 'time': [{'startTime': '2023-03-30 12:00:00', 'endTime': '2023-03-30 18:00:00', 'parameter': {'parameterName': '24', 'parameterUnit': 'C'}}, {'startTime': '2023-03-30 18:00:00', 'endTime': '2023-03-31 06:00:00', 'parameter': {'parameterName': '19', 'parameterUnit': 'C'}}, {'startTime': '2023-03-31 06:00:00', 'endTime': '2023-03-31 18:00:00', 'parameter': {'parameterName': '19', 'parameterUnit': 'C'}}]}, {'elementName': 'CI', 'time': [{'startTime': '2023-03-30 12:00:00', 'endTime': '2023-03-30 18:00:00', 'parameter': {'parameterName': '舒適'}}, {'startTime': '2023-03-30 18:00:00', 'endTime': '2023-03-31 06:00:00', 'parameter': {'parameterName': '稍有寒意至舒適'}}, {'startTime': '2023-03-31 06:00:00', 'endTime': '2023-03-31 18:00:00', 'parameter': {'parameterName': '稍有寒意至舒適'}}]}, {'elementName': 'MaxT', 'time': [{'startTime': '2023-03-30 12:00:00', 'endTime': '2023-03-30 18:00:00', 'parameter': {'parameterName': '27', 'parameterUnit': 'C'}}, {'startTime': '2023-03-30 18:00:00', 'endTime': '2023-03-31 06:00:00', 'parameter': {'parameterName': '24', 'parameterUnit': 'C'}}, {'startTime': '2023-03-31 06:00:00', 'endTime': '2023-03-31 18:00:00', 'parameter': {'parameterName': '27', 'parameterUnit': 'C'}}]}]}, {'locationName': '宜蘭縣', 'weatherElement': [{'elementName': 'Wx', 'time': [{'startTime': '2023-03-30 12:00:00', 'endTime': '2023-03-30 18:00:00', 'parameter': {'parameterName': '陰天', 'parameterValue': '7'}}, {'startTime': '2023-03-30 18:00:00', 'endTime': '2023-03-31 06:00:00', 'parameter': {'parameterName': '多雲時陰', 'parameterValue': '5'}}, {'startTime': '2023-03-31 06:00:00', 'endTime': '2023-03-31 18:00:00', 'parameter': {'parameterName': '多雲時陰', 'parameterValue': '5'}}]}, {'elementName': 'PoP', 'time': [{'startTime': '2023-03-30 12:00:00', 'endTime': '2023-03-30 18:00:00', 'parameter': {'parameterName': '20', 'parameterUnit': '百分比'}}, {'startTime': '2023-03-30 18:00:00', 'endTime': '2023-03-31 06:00:00', 'parameter': {'parameterName': '20', 'parameterUnit': '百分比'}}, {'startTime': '2023-03-31 06:00:00', 'endTime': '2023-03-31 18:00:00', 'parameter': {'parameterName': '20', 'parameterUnit': '百分比'}}]}, {'elementName': 'MinT', 'time': [{'startTime': '2023-03-30 12:00:00', 'endTime': '2023-03-30 18:00:00', 'parameter': {'parameterName': '21', 'parameterUnit': 'C'}}, {'startTime': '2023-03-30 18:00:00', 'endTime': '2023-03-31 06:00:00', 'parameter': {'parameterName': '17', 'parameterUnit': 'C'}}, {'startTime': '2023-03-31 06:00:00', 'endTime': '2023-03-31 18:00:00', 'parameter': {'parameterName': '17', 'parameterUnit': 'C'}}]}, {'elementName': 'CI', 'time': [{'startTime': '2023-03-30 12:00:00', 'endTime': '2023-03-30 18:00:00', 'parameter': {'parameterName': '舒適'}}, {'startTime': '2023-03-30 18:00:00', 'endTime': '2023-03-31 06:00:00', 'parameter': {'parameterName': '稍有寒意至舒適'}}, {'startTime': '2023-03-31 06:00:00', 'endTime': '2023-03-31 18:00:00', 'parameter': {'parameterName': '稍有寒意至舒適'}}]}, {'elementName': 'MaxT', 'time': [{'startTime': '2023-03-30 12:00:00', 'endTime': '2023-03-30 18:00:00', 'parameter': {'parameterName': '24', 'parameterUnit': 'C'}}, {'startTime': '2023-03-30 18:00:00', 'endTime': '2023-03-31 06:00:00', 'parameter': {'parameterName': '21', 'parameterUnit': 'C'}}, {'startTime': '2023-03-31 06:00:00', 'endTime': '2023-03-31 18:00:00', 'parameter': {'parameterName': '24', 'parameterUnit': 'C'}}]}]}, {'locationName': '苗栗縣', 'weatherElement': [{'elementName': 'Wx', 'time': [{'startTime': '2023-03-30 12:00:00', 'endTime': '2023-03-30 18:00:00', 'parameter': {'parameterName': '多雲', 'parameterValue': '4'}}, {'startTime': '2023-03-30 18:00:00', 'endTime': '2023-03-31 06:00:00', 'parameter': {'parameterName': '多雲時晴', 'parameterValue': '3'}}, {'startTime': '2023-03-31 06:00:00', 'endTime': '2023-03-31 18:00:00', 'parameter': {'parameterName': '多雲時晴', 'parameterValue': '3'}}]}, {'elementName': 'PoP', 'time': [{'startTime': '2023-03-30 12:00:00', 'endTime': '2023-03-30 18:00:00', 'parameter': {'parameterName': '20', 'parameterUnit': '百分比'}}, {'startTime': '2023-03-30 18:00:00', 'endTime': '2023-03-31 06:00:00', 'parameter': {'parameterName': '20', 'parameterUnit': '百分比'}}, {'startTime': '2023-03-31 06:00:00', 'endTime': '2023-03-31 18:00:00', 'parameter': {'parameterName': '10', 'parameterUnit': '百分比'}}]}, {'elementName': 'MinT', 'time': [{'startTime': '2023-03-30 12:00:00', 'endTime': '2023-03-30 18:00:00', 'parameter': {'parameterName': '20', 'parameterUnit': 'C'}}, {'startTime': '2023-03-30 18:00:00', 'endTime': '2023-03-31 06:00:00', 'parameter': {'parameterName': '17', 'parameterUnit': 'C'}}, {'startTime': '2023-03-31 06:00:00', 'endTime': '2023-03-31 18:00:00', 'parameter': {'parameterName': '17', 'parameterUnit': 'C'}}]}, {'elementName': 'CI', 'time': [{'startTime': '2023-03-30 12:00:00', 'endTime': '2023-03-30 18:00:00', 'parameter': {'parameterName': '舒適'}}, {'startTime': '2023-03-30 18:00:00', 'endTime': '2023-03-31 06:00:00', 'parameter': {'parameterName': '稍有寒意至舒適'}}, {'startTime': '2023-03-31 06:00:00', 'endTime': '2023-03-31 18:00:00', 'parameter': {'parameterName': '稍有寒意至舒適'}}]}, {'elementName': 'MaxT', 'time': [{'startTime': '2023-03-30 12:00:00', 'endTime': '2023-03-30 18:00:00', 'parameter': {'parameterName': '22', 'parameterUnit': 'C'}}, {'startTime': '2023-03-30 18:00:00', 'endTime': '2023-03-31 06:00:00', 'parameter': {'parameterName': '20', 'parameterUnit': 'C'}}, {'startTime': '2023-03-31 06:00:00', 'endTime': '2023-03-31 18:00:00', 'parameter': {'parameterName': '23', 'parameterUnit': 'C'}}]}]}, {'locationName': '雲林縣', 'weatherElement': [{'elementName': 'Wx', 'time': [{'startTime': '2023-03-30 12:00:00', 'endTime': '2023-03-30 18:00:00', 'parameter': {'parameterName': '多雲時晴', 'parameterValue': '3'}}, {'startTime': '2023-03-30 18:00:00', 'endTime': '2023-03-31 06:00:00', 'parameter': {'parameterName': '晴時多雲', 'parameterValue': '2'}}, {'startTime': '2023-03-31 06:00:00', 'endTime': '2023-03-31 18:00:00', 'parameter': {'parameterName': '晴時多雲', 'parameterValue': '2'}}]}, {'elementName': 'PoP', 'time': [{'startTime': '2023-03-30 12:00:00', 'endTime': '2023-03-30 18:00:00', 'parameter': {'parameterName': '10', 'parameterUnit': '百分比'}}, {'startTime': '2023-03-30 18:00:00', 'endTime': '2023-03-31 06:00:00', 'parameter': {'parameterName': '20', 'parameterUnit': '百分比'}}, {'startTime': '2023-03-31 06:00:00', 'endTime': '2023-03-31 18:00:00', 'parameter': {'parameterName': '10', 'parameterUnit': '百分比'}}]}, {'elementName': 'MinT', 'time': [{'startTime': '2023-03-30 12:00:00', 'endTime': '2023-03-30 18:00:00', 'parameter': {'parameterName': '22', 'parameterUnit': 'C'}}, {'startTime': '2023-03-30 18:00:00', 'endTime': '2023-03-31 06:00:00', 'parameter': {'parameterName': '18', 'parameterUnit': 'C'}}, {'startTime': '2023-03-31 06:00:00', 'endTime': '2023-03-31 18:00:00', 'parameter': {'parameterName': '18', 'parameterUnit': 'C'}}]}, {'elementName': 'CI', 'time': [{'startTime': '2023-03-30 12:00:00', 'endTime': '2023-03-30 18:00:00', 'parameter': {'parameterName': '舒適'}}, {'startTime': '2023-03-30 18:00:00', 'endTime': '2023-03-31 06:00:00', 'parameter': {'parameterName': '稍有寒意至舒適'}}, {'startTime': '2023-03-31 06:00:00', 'endTime': '2023-03-31 18:00:00', 'parameter': {'parameterName': '稍有寒意至舒適'}}]}, {'elementName': 'MaxT', 'time': [{'startTime': '2023-03-30 12:00:00', 'endTime': '2023-03-30 18:00:00', 'parameter': {'parameterName': '25', 'parameterUnit': 'C'}}, {'startTime': '2023-03-30 18:00:00', 'endTime': '2023-03-31 06:00:00', 'parameter': {'parameterName': '22', 'parameterUnit': 'C'}}, {'startTime': '2023-03-31 06:00:00', 'endTime': '2023-03-31 18:00:00', 'parameter': {'parameterName': '26', 'parameterUnit': 'C'}}]}]}, {'locationName': '花蓮縣', 'weatherElement': [{'elementName': 'Wx', 'time': [{'startTime': '2023-03-30 12:00:00', 'endTime': '2023-03-30 18:00:00', 'parameter': {'parameterName': '陰天', 'parameterValue': '7'}}, {'startTime': '2023-03-30 18:00:00', 'endTime': '2023-03-31 06:00:00', 'parameter': {'parameterName': '陰天', 'parameterValue': '7'}}, {'startTime': '2023-03-31 06:00:00', 'endTime': '2023-03-31 18:00:00', 'parameter': {'parameterName': '陰時多雲', 'parameterValue': '6'}}]}, {'elementName': 'PoP', 'time': [{'startTime': '2023-03-30 12:00:00', 'endTime': '2023-03-30 18:00:00', 'parameter': {'parameterName': '20', 'parameterUnit': '百分比'}}, {'startTime': '2023-03-30 18:00:00', 'endTime': '2023-03-31 06:00:00', 'parameter': {'parameterName': '20', 'parameterUnit': '百分比'}}, {'startTime': '2023-03-31 06:00:00', 'endTime': '2023-03-31 18:00:00', 'parameter': {'parameterName': '20', 'parameterUnit': '百分比'}}]}, {'elementName': 'MinT', 'time': [{'startTime': '2023-03-30 12:00:00', 'endTime': '2023-03-30 18:00:00', 'parameter': {'parameterName': '22', 'parameterUnit': 'C'}}, {'startTime': '2023-03-30 18:00:00', 'endTime': '2023-03-31 06:00:00', 'parameter': {'parameterName': '19', 'parameterUnit': 'C'}}, {'startTime': '2023-03-31 06:00:00', 'endTime': '2023-03-31 18:00:00', 'parameter': {'parameterName': '19', 'parameterUnit': 'C'}}]}, {'elementName': 'CI', 'time': [{'startTime': '2023-03-30 12:00:00', 'endTime': '2023-03-30 18:00:00', 'parameter': {'parameterName': '舒適'}}, {'startTime': '2023-03-30 18:00:00', 'endTime': '2023-03-31 06:00:00', 'parameter': {'parameterName': '稍有寒意至舒適'}}, {'startTime': '2023-03-31 06:00:00', 'endTime': '2023-03-31 18:00:00', 'parameter': {'parameterName': '稍有寒意至舒適'}}]}, {'elementName': 'MaxT', 'time': [{'startTime': '2023-03-30 12:00:00', 'endTime': '2023-03-30 18:00:00', 'parameter': {'parameterName': '24', 'parameterUnit': 'C'}}, {'startTime': '2023-03-30 18:00:00', 'endTime': '2023-03-31 06:00:00', 'parameter': {'parameterName': '22', 'parameterUnit': 'C'}}, {'startTime': '2023-03-31 06:00:00', 'endTime': '2023-03-31 18:00:00', 'parameter': {'parameterName': '23', 'parameterUnit': 'C'}}]}]}, {'locationName': '臺中市', 'weatherElement': [{'elementName': 'Wx', 'time': [{'startTime': '2023-03-30 12:00:00', 'endTime': '2023-03-30 18:00:00', 'parameter': {'parameterName': '晴時多雲', 'parameterValue': '2'}}, {'startTime': '2023-03-30 18:00:00', 'endTime': '2023-03-31 06:00:00', 'parameter': {'parameterName': '晴時多雲', 'parameterValue': '2'}}, {'startTime': '2023-03-31 06:00:00', 'endTime': '2023-03-31 18:00:00', 'parameter': {'parameterName': '晴時多雲', 'parameterValue': '2'}}]}, {'elementName': 'PoP', 'time': [{'startTime': '2023-03-30 12:00:00', 'endTime': '2023-03-30 18:00:00', 'parameter': {'parameterName': '20', 'parameterUnit': '百分比'}}, {'startTime': '2023-03-30 18:00:00', 'endTime': '2023-03-31 06:00:00', 'parameter': {'parameterName': '20', 'parameterUnit': '百分比'}}, {'startTime': '2023-03-31 06:00:00', 'endTime': '2023-03-31 18:00:00', 'parameter': {'parameterName': '10', 'parameterUnit': '百分比'}}]}, {'elementName': 'MinT', 'time': [{'startTime': '2023-03-30 12:00:00', 'endTime': '2023-03-30 18:00:00', 'parameter': {'parameterName': '23', 'parameterUnit': 'C'}}, {'startTime': '2023-03-30 18:00:00', 'endTime': '2023-03-31 06:00:00', 'parameter': {'parameterName': '19', 'parameterUnit': 'C'}}, {'startTime': '2023-03-31 06:00:00', 'endTime': '2023-03-31 18:00:00', 'parameter': {'parameterName': '19', 'parameterUnit': 'C'}}]}, {'elementName': 'CI', 'time': [{'startTime': '2023-03-30 12:00:00', 'endTime': '2023-03-30 18:00:00', 'parameter': {'parameterName': '舒適'}}, {'startTime': '2023-03-30 18:00:00', 'endTime': '2023-03-31 06:00:00', 'parameter': {'parameterName': '稍有寒意至舒適'}}, {'startTime': '2023-03-31 06:00:00', 'endTime': '2023-03-31 18:00:00', 'parameter': {'parameterName': '稍有寒意至舒適'}}]}, {'elementName': 'MaxT', 'time': [{'startTime': '2023-03-30 12:00:00', 'endTime': '2023-03-30 18:00:00', 'parameter': {'parameterName': '26', 'parameterUnit': 'C'}}, {'startTime': '2023-03-30 18:00:00', 'endTime': '2023-03-31 06:00:00', 'parameter': {'parameterName': '23', 'parameterUnit': 'C'}}, {'startTime': '2023-03-31 06:00:00', 'endTime': '2023-03-31 18:00:00', 'parameter': {'parameterName': '27', 'parameterUnit': 'C'}}]}]}, {'locationName': '臺東縣', 'weatherElement': [{'elementName': 'Wx', 'time': [{'startTime': '2023-03-30 12:00:00', 'endTime': '2023-03-30 18:00:00', 'parameter': {'parameterName': '多雲時陰短暫雨', 'parameterValue': '9'}}, {'startTime': '2023-03-30 18:00:00', 'endTime': '2023-03-31 06:00:00', 'parameter': {'parameterName': '陰天', 'parameterValue': '7'}}, {'startTime': '2023-03-31 06:00:00', 'endTime': '2023-03-31 18:00:00', 'parameter': {'parameterName': '陰時多雲', 'parameterValue': '6'}}]}, {'elementName': 'PoP', 'time': [{'startTime': '2023-03-30 12:00:00', 'endTime': '2023-03-30 18:00:00', 'parameter': {'parameterName': '50', 'parameterUnit': '百分比'}}, {'startTime': '2023-03-30 18:00:00', 'endTime': '2023-03-31 06:00:00', 'parameter': {'parameterName': '20', 'parameterUnit': '百分比'}}, {'startTime': '2023-03-31 06:00:00', 'endTime': '2023-03-31 18:00:00', 'parameter': {'parameterName': '20', 'parameterUnit': '百分比'}}]}, {'elementName': 'MinT', 'time': [{'startTime': '2023-03-30 12:00:00', 'endTime': '2023-03-30 18:00:00', 'parameter': {'parameterName': '25', 'parameterUnit': 'C'}}, {'startTime': '2023-03-30 18:00:00', 'endTime': '2023-03-31 06:00:00', 'parameter': {'parameterName': '21', 'parameterUnit': 'C'}}, {'startTime': '2023-03-31 06:00:00', 'endTime': '2023-03-31 18:00:00', 'parameter': {'parameterName': '21', 'parameterUnit': 'C'}}]}, {'elementName': 'CI', 'time': [{'startTime': '2023-03-30 12:00:00', 'endTime': '2023-03-30 18:00:00', 'parameter': {'parameterName': '舒適'}}, {'startTime': '2023-03-30 18:00:00', 'endTime': '2023-03-31 06:00:00', 'parameter': {'parameterName': '舒適'}}, {'startTime': '2023-03-31 06:00:00', 'endTime': '2023-03-31 18:00:00', 'parameter': {'parameterName': '舒適'}}]}, {'elementName': 'MaxT', 'time': [{'startTime': '2023-03-30 12:00:00', 'endTime': '2023-03-30 18:00:00', 'parameter': {'parameterName': '28', 'parameterUnit': 'C'}}, {'startTime': '2023-03-30 18:00:00', 'endTime': '2023-03-31 06:00:00', 'parameter': {'parameterName': '25', 'parameterUnit': 'C'}}, {'startTime': '2023-03-31 06:00:00', 'endTime': '2023-03-31 18:00:00', 'parameter': {'parameterName': '26', 'parameterUnit': 'C'}}]}]}, {'locationName': '桃園市', 'weatherElement': [{'elementName': 'Wx', 'time': [{'startTime': '2023-03-30 12:00:00', 'endTime': '2023-03-30 18:00:00', 'parameter': {'parameterName': '陰時多雲', 'parameterValue': '6'}}, {'startTime': '2023-03-30 18:00:00', 'endTime': '2023-03-31 06:00:00', 'parameter': {'parameterName': '陰時多雲', 'parameterValue': '6'}}, {'startTime': '2023-03-31 06:00:00', 'endTime': '2023-03-31 18:00:00', 'parameter': {'parameterName': '多雲', 'parameterValue': '4'}}]}, {'elementName': 'PoP', 'time': [{'startTime': '2023-03-30 12:00:00', 'endTime': '2023-03-30 18:00:00', 'parameter': {'parameterName': '20', 'parameterUnit': '百分比'}}, {'startTime': '2023-03-30 18:00:00', 'endTime': '2023-03-31 06:00:00', 'parameter': {'parameterName': '20', 'parameterUnit': '百分比'}}, {'startTime': '2023-03-31 06:00:00', 'endTime': '2023-03-31 18:00:00', 'parameter': {'parameterName': '20', 'parameterUnit': '百分比'}}]}, {'elementName': 'MinT', 'time': [{'startTime': '2023-03-30 12:00:00', 'endTime': '2023-03-30 18:00:00', 'parameter': {'parameterName': '19', 'parameterUnit': 'C'}}, {'startTime': '2023-03-30 18:00:00', 'endTime': '2023-03-31 06:00:00', 'parameter': {'parameterName': '17', 'parameterUnit': 'C'}}, {'startTime': '2023-03-31 06:00:00', 'endTime': '2023-03-31 18:00:00', 'parameter': {'parameterName': '17', 'parameterUnit': 'C'}}]}, {'elementName': 'CI', 'time': [{'startTime': '2023-03-30 12:00:00', 'endTime': '2023-03-30 18:00:00', 'parameter': {'parameterName': '稍有寒意'}}, {'startTime': '2023-03-30 18:00:00', 'endTime': '2023-03-31 06:00:00', 'parameter': {'parameterName': '稍有寒意'}}, {'startTime': '2023-03-31 06:00:00', 'endTime': '2023-03-31 18:00:00', 'parameter': {'parameterName': '稍有寒意至舒適'}}]}, {'elementName': 'MaxT', 'time': [{'startTime': '2023-03-30 12:00:00', 'endTime': '2023-03-30 18:00:00', 'parameter': {'parameterName': '20', 'parameterUnit': 'C'}}, {'startTime': '2023-03-30 18:00:00', 'endTime': '2023-03-31 06:00:00', 'parameter': {'parameterName': '19', 'parameterUnit': 'C'}}, {'startTime': '2023-03-31 06:00:00', 'endTime': '2023-03-31 18:00:00', 'parameter': {'parameterName': '22', 'parameterUnit': 'C'}}]}]}, {'locationName': '南投縣', 'weatherElement': [{'elementName': 'Wx', 'time': [{'startTime': '2023-03-30 12:00:00', 'endTime': '2023-03-30 18:00:00', 'parameter': {'parameterName': '多雲時晴', 'parameterValue': '3'}}, {'startTime': '2023-03-30 18:00:00', 'endTime': '2023-03-31 06:00:00', 'parameter': {'parameterName': '晴時多雲', 'parameterValue': '2'}}, {'startTime': '2023-03-31 06:00:00', 'endTime': '2023-03-31 18:00:00', 'parameter': {'parameterName': '多雲時晴', 'parameterValue': '3'}}]}, {'elementName': 'PoP', 'time': [{'startTime': '2023-03-30 12:00:00', 'endTime': '2023-03-30 18:00:00', 'parameter': {'parameterName': '20', 'parameterUnit': '百分比'}}, {'startTime': '2023-03-30 18:00:00', 'endTime': '2023-03-31 06:00:00', 'parameter': {'parameterName': '20', 'parameterUnit': '百分比'}}, {'startTime': '2023-03-31 06:00:00', 'endTime': '2023-03-31 18:00:00', 'parameter': {'parameterName': '10', 'parameterUnit': '百分比'}}]}, {'elementName': 'MinT', 'time': [{'startTime': '2023-03-30 12:00:00', 'endTime': '2023-03-30 18:00:00', 'parameter': {'parameterName': '23', 'parameterUnit': 'C'}}, {'startTime': '2023-03-30 18:00:00', 'endTime': '2023-03-31 06:00:00', 'parameter': {'parameterName': '18', 'parameterUnit': 'C'}}, {'startTime': '2023-03-31 06:00:00', 'endTime': '2023-03-31 18:00:00', 'parameter': {'parameterName': '18', 'parameterUnit': 'C'}}]}, {'elementName': 'CI', 'time': [{'startTime': '2023-03-30 12:00:00', 'endTime': '2023-03-30 18:00:00', 'parameter': {'parameterName': '舒適'}}, {'startTime': '2023-03-30 18:00:00', 'endTime': '2023-03-31 06:00:00', 'parameter': {'parameterName': '稍有寒意至舒適'}}, {'startTime': '2023-03-31 06:00:00', 'endTime': '2023-03-31 18:00:00', 'parameter': {'parameterName': '稍有寒意至舒適'}}]}, {'elementName': 'MaxT', 'time': [{'startTime': '2023-03-30 12:00:00', 'endTime': '2023-03-30 18:00:00', 'parameter': {'parameterName': '25', 'parameterUnit': 'C'}}, {'startTime': '2023-03-30 18:00:00', 'endTime': '2023-03-31 06:00:00', 'parameter': {'parameterName': '23', 'parameterUnit': 'C'}}, {'startTime': '2023-03-31 06:00:00', 'endTime': '2023-03-31 18:00:00', 'parameter': {'parameterName': '27', 'parameterUnit': 'C'}}]}]}, {'locationName': '高雄市', 'weatherElement': [{'elementName': 'Wx', 'time': [{'startTime': '2023-03-30 12:00:00', 'endTime': '2023-03-30 18:00:00', 'parameter': {'parameterName': '晴時多雲', 'parameterValue': '2'}}, {'startTime': '2023-03-30 18:00:00', 'endTime': '2023-03-31 06:00:00', 'parameter': {'parameterName': '晴時多雲', 'parameterValue': '2'}}, {'startTime': '2023-03-31 06:00:00', 'endTime': '2023-03-31 18:00:00', 'parameter': {'parameterName': '多雲', 'parameterValue': '4'}}]}, {'elementName': 'PoP', 'time': [{'startTime': '2023-03-30 12:00:00', 'endTime': '2023-03-30 18:00:00', 'parameter': {'parameterName': '10', 'parameterUnit': '百分比'}}, {'startTime': '2023-03-30 18:00:00', 'endTime': '2023-03-31 06:00:00', 'parameter': {'parameterName': '10', 'parameterUnit': '百分比'}}, {'startTime': '2023-03-31 06:00:00', 'endTime': '2023-03-31 18:00:00', 'parameter': {'parameterName': '10', 'parameterUnit': '百分比'}}]}, {'elementName': 'MinT', 'time': [{'startTime': '2023-03-30 12:00:00', 'endTime': '2023-03-30 18:00:00', 'parameter': {'parameterName': '26', 'parameterUnit': 'C'}}, {'startTime': '2023-03-30 18:00:00', 'endTime': '2023-03-31 06:00:00', 'parameter': {'parameterName': '22', 'parameterUnit': 'C'}}, {'startTime': '2023-03-31 06:00:00', 'endTime': '2023-03-31 18:00:00', 'parameter': {'parameterName': '22', 'parameterUnit': 'C'}}]}, {'elementName': 'CI', 'time': [{'startTime': '2023-03-30 12:00:00', 'endTime': '2023-03-30 18:00:00', 'parameter': {'parameterName': '舒適'}}, {'startTime': '2023-03-30 18:00:00', 'endTime': '2023-03-31 06:00:00', 'parameter': {'parameterName': '舒適'}}, {'startTime': '2023-03-31 06:00:00', 'endTime': '2023-03-31 18:00:00', 'parameter': {'parameterName': '舒適'}}]}, {'elementName': 'MaxT', 'time': [{'startTime': '2023-03-30 12:00:00', 'endTime': '2023-03-30 18:00:00', 'parameter': {'parameterName': '29', 'parameterUnit': 'C'}}, {'startTime': '2023-03-30 18:00:00', 'endTime': '2023-03-31 06:00:00', 'parameter': {'parameterName': '26', 'parameterUnit': 'C'}}, {'startTime': '2023-03-31 06:00:00', 'endTime': '2023-03-31 18:00:00', 'parameter': {'parameterName': '28', 'parameterUnit': 'C'}}]}]}, {'locationName': '金門縣', 'weatherElement': [{'elementName': 'Wx', 'time': [{'startTime': '2023-03-30 12:00:00', 'endTime': '2023-03-30 18:00:00', 'parameter': {'parameterName': '多雲短暫雨', 'parameterValue': '8'}}, {'startTime': '2023-03-30 18:00:00', 'endTime': '2023-03-31 06:00:00', 'parameter': {'parameterName': '多雲短暫雨', 'parameterValue': '8'}}, {'startTime': '2023-03-31 06:00:00', 'endTime': '2023-03-31 18:00:00', 'parameter': {'parameterName': '多雲短暫雨', 'parameterValue': '8'}}]}, {'elementName': 'PoP', 'time': [{'startTime': '2023-03-30 12:00:00', 'endTime': '2023-03-30 18:00:00', 'parameter': {'parameterName': '30', 'parameterUnit': '百分比'}}, {'startTime': '2023-03-30 18:00:00', 'endTime': '2023-03-31 06:00:00', 'parameter': {'parameterName': '30', 'parameterUnit': '百分比'}}, {'startTime': '2023-03-31 06:00:00', 'endTime': '2023-03-31 18:00:00', 'parameter': {'parameterName': '30', 'parameterUnit': '百分比'}}]}, {'elementName': 'MinT', 'time': [{'startTime': '2023-03-30 12:00:00', 'endTime': '2023-03-30 18:00:00', 'parameter': {'parameterName': '17', 'parameterUnit': 'C'}}, {'startTime': '2023-03-30 18:00:00', 'endTime': '2023-03-31 06:00:00', 'parameter': {'parameterName': '15', 'parameterUnit': 'C'}}, {'startTime': '2023-03-31 06:00:00', 'endTime': '2023-03-31 18:00:00', 'parameter': {'parameterName': '15', 'parameterUnit': 'C'}}]}, {'elementName': 'CI', 'time': [{'startTime': '2023-03-30 12:00:00', 'endTime': '2023-03-30 18:00:00', 'parameter': {'parameterName': '稍有寒意'}}, {'startTime': '2023-03-30 18:00:00', 'endTime': '2023-03-31 06:00:00', 'parameter': {'parameterName': '寒冷至稍有寒意'}}, {'startTime': '2023-03-31 06:00:00', 'endTime': '2023-03-31 18:00:00', 'parameter': {'parameterName': '寒冷至稍有寒意'}}]}, {'elementName': 'MaxT', 'time': [{'startTime': '2023-03-30 12:00:00', 'endTime': '2023-03-30 18:00:00', 'parameter': {'parameterName': '20', 'parameterUnit': 'C'}}, {'startTime': '2023-03-30 18:00:00', 'endTime': '2023-03-31 06:00:00', 'parameter': {'parameterName': '17', 'parameterUnit': 'C'}}, {'startTime': '2023-03-31 06:00:00', 'endTime': '2023-03-31 18:00:00', 'parameter': {'parameterName': '20', 'parameterUnit': 'C'}}]}]}, {'locationName': '屏東縣', 'weatherElement': [{'elementName': 'Wx', 'time': [{'startTime': '2023-03-30 12:00:00', 'endTime': '2023-03-30 18:00:00', 'parameter': {'parameterName': '晴時多雲', 'parameterValue': '2'}}, {'startTime': '2023-03-30 18:00:00', 'endTime': '2023-03-31 06:00:00', 'parameter': {'parameterName': '晴時多雲', 'parameterValue': '2'}}, {'startTime': '2023-03-31 06:00:00', 'endTime': '2023-03-31 18:00:00', 'parameter': {'parameterName': '多雲', 'parameterValue': '4'}}]}, {'elementName': 'PoP', 'time': [{'startTime': '2023-03-30 12:00:00', 'endTime': '2023-03-30 18:00:00', 'parameter': {'parameterName': '10', 'parameterUnit': '百分比'}}, {'startTime': '2023-03-30 18:00:00', 'endTime': '2023-03-31 06:00:00', 'parameter': {'parameterName': '10', 'parameterUnit': '百分比'}}, {'startTime': '2023-03-31 06:00:00', 'endTime': '2023-03-31 18:00:00', 'parameter': {'parameterName': '10', 'parameterUnit': '百分比'}}]}, {'elementName': 'MinT', 'time': [{'startTime': '2023-03-30 12:00:00', 'endTime': '2023-03-30 18:00:00', 'parameter': {'parameterName': '28', 'parameterUnit': 'C'}}, {'startTime': '2023-03-30 18:00:00', 'endTime': '2023-03-31 06:00:00', 'parameter': {'parameterName': '21', 'parameterUnit': 'C'}}, {'startTime': '2023-03-31 06:00:00', 'endTime': '2023-03-31 18:00:00', 'parameter': {'parameterName': '21', 'parameterUnit': 'C'}}]}, {'elementName': 'CI', 'time': [{'startTime': '2023-03-30 12:00:00', 'endTime': '2023-03-30 18:00:00', 'parameter': {'parameterName': '舒適至悶熱'}}, {'startTime': '2023-03-30 18:00:00', 'endTime': '2023-03-31 06:00:00', 'parameter': {'parameterName': '舒適'}}, {'startTime': '2023-03-31 06:00:00', 'endTime': '2023-03-31 18:00:00', 'parameter': {'parameterName': '舒適'}}]}, {'elementName': 'MaxT', 'time': [{'startTime': '2023-03-30 12:00:00', 'endTime': '2023-03-30 18:00:00', 'parameter': {'parameterName': '32', 'parameterUnit': 'C'}}, {'startTime': '2023-03-30 18:00:00', 'endTime': '2023-03-31 06:00:00', 'parameter': {'parameterName': '28', 'parameterUnit': 'C'}}, {'startTime': '2023-03-31 06:00:00', 'endTime': '2023-03-31 18:00:00', 'parameter': {'parameterName': '30', 'parameterUnit': 'C'}}]}]}, {'locationName': '基隆市', 'weatherElement': [{'elementName': 'Wx', 'time': [{'startTime': '2023-03-30 12:00:00', 'endTime': '2023-03-30 18:00:00', 'parameter': {'parameterName': '陰天', 'parameterValue': '7'}}, {'startTime': '2023-03-30 18:00:00', 'endTime': '2023-03-31 06:00:00', 'parameter': {'parameterName': '陰天', 'parameterValue': '7'}}, {'startTime': '2023-03-31 06:00:00', 'endTime': '2023-03-31 18:00:00', 'parameter': {'parameterName': '陰天', 'parameterValue': '7'}}]}, {'elementName': 'PoP', 'time': [{'startTime': '2023-03-30 12:00:00', 'endTime': '2023-03-30 18:00:00', 'parameter': {'parameterName': '20', 'parameterUnit': '百分比'}}, {'startTime': '2023-03-30 18:00:00', 'endTime': '2023-03-31 06:00:00', 'parameter': {'parameterName': '20', 'parameterUnit': '百分比'}}, {'startTime': '2023-03-31 06:00:00', 'endTime': '2023-03-31 18:00:00', 'parameter': {'parameterName': '20', 'parameterUnit': '百分比'}}]}, {'elementName': 'MinT', 'time': [{'startTime': '2023-03-30 12:00:00', 'endTime': '2023-03-30 18:00:00', 'parameter': {'parameterName': '17', 'parameterUnit': 'C'}}, {'startTime': '2023-03-30 18:00:00', 'endTime': '2023-03-31 06:00:00', 'parameter': {'parameterName': '16', 'parameterUnit': 'C'}}, {'startTime': '2023-03-31 06:00:00', 'endTime': '2023-03-31 18:00:00', 'parameter': {'parameterName': '16', 'parameterUnit': 'C'}}]}, {'elementName': 'CI', 'time': [{'startTime': '2023-03-30 12:00:00', 'endTime': '2023-03-30 18:00:00', 'parameter': {'parameterName': '稍有寒意'}}, {'startTime': '2023-03-30 18:00:00', 'endTime': '2023-03-31 06:00:00', 'parameter': {'parameterName': '稍有寒意'}}, {'startTime': '2023-03-31 06:00:00', 'endTime': '2023-03-31 18:00:00', 'parameter': {'parameterName': '稍有寒意'}}]}, {'elementName': 'MaxT', 'time': [{'startTime': '2023-03-30 12:00:00', 'endTime': '2023-03-30 18:00:00', 'parameter': {'parameterName': '19', 'parameterUnit': 'C'}}, {'startTime': '2023-03-30 18:00:00', 'endTime': '2023-03-31 06:00:00', 'parameter': {'parameterName': '17', 'parameterUnit': 'C'}}, {'startTime': '2023-03-31 06:00:00', 'endTime': '2023-03-31 18:00:00', 'parameter': {'parameterName': '19', 'parameterUnit': 'C'}}]}]}, {'locationName': '澎湖縣', 'weatherElement': [{'elementName': 'Wx', 'time': [{'startTime': '2023-03-30 12:00:00', 'endTime': '2023-03-30 18:00:00', 'parameter': {'parameterName': '多雲短暫雨', 'parameterValue': '8'}}, {'startTime': '2023-03-30 18:00:00', 'endTime': '2023-03-31 06:00:00', 'parameter': {'parameterName': '多雲', 'parameterValue': '4'}}, {'startTime': '2023-03-31 06:00:00', 'endTime': '2023-03-31 18:00:00', 'parameter': {'parameterName': '晴時多雲', 'parameterValue': '2'}}]}, {'elementName': 'PoP', 'time': [{'startTime': '2023-03-30 12:00:00', 'endTime': '2023-03-30 18:00:00', 'parameter': {'parameterName': '30', 'parameterUnit': '百分比'}}, {'startTime': '2023-03-30 18:00:00', 'endTime': '2023-03-31 06:00:00', 'parameter': {'parameterName': '20', 'parameterUnit': '百分比'}}, {'startTime': '2023-03-31 06:00:00', 'endTime': '2023-03-31 18:00:00', 'parameter': {'parameterName': '20', 'parameterUnit': '百分比'}}]}, {'elementName': 'MinT', 'time': [{'startTime': '2023-03-30 12:00:00', 'endTime': '2023-03-30 18:00:00', 'parameter': {'parameterName': '20', 'parameterUnit': 'C'}}, {'startTime': '2023-03-30 18:00:00', 'endTime': '2023-03-31 06:00:00', 'parameter': {'parameterName': '19', 'parameterUnit': 'C'}}, {'startTime': '2023-03-31 06:00:00', 'endTime': '2023-03-31 18:00:00', 'parameter': {'parameterName': '19', 'parameterUnit': 'C'}}]}, {'elementName': 'CI', 'time': [{'startTime': '2023-03-30 12:00:00', 'endTime': '2023-03-30 18:00:00', 'parameter': {'parameterName': '稍有寒意至舒適'}}, {'startTime': '2023-03-30 18:00:00', 'endTime': '2023-03-31 06:00:00', 'parameter': {'parameterName': '稍有寒意至舒適'}}, {'startTime': '2023-03-31 06:00:00', 'endTime': '2023-03-31 18:00:00', 'parameter': {'parameterName': '稍有寒意至舒適'}}]}, {'elementName': 'MaxT', 'time': [{'startTime': '2023-03-30 12:00:00', 'endTime': '2023-03-30 18:00:00', 'parameter': {'parameterName': '23', 'parameterUnit': 'C'}}, {'startTime': '2023-03-30 18:00:00', 'endTime': '2023-03-31 06:00:00', 'parameter': {'parameterName': '20', 'parameterUnit': 'C'}}, {'startTime': '2023-03-31 06:00:00', 'endTime': '2023-03-31 18:00:00', 'parameter': {'parameterName': '23', 'parameterUnit': 'C'}}]}]}, {'locationName': '彰化縣', 'weatherElement': [{'elementName': 'Wx', 'time': [{'startTime': '2023-03-30 12:00:00', 'endTime': '2023-03-30 18:00:00', 'parameter': {'parameterName': '晴時多雲', 'parameterValue': '2'}}, {'startTime': '2023-03-30 18:00:00', 'endTime': '2023-03-31 06:00:00', 'parameter': {'parameterName': '晴時多雲', 'parameterValue': '2'}}, {'startTime': '2023-03-31 06:00:00', 'endTime': '2023-03-31 18:00:00', 'parameter': {'parameterName': '晴時多雲', 'parameterValue': '2'}}]}, {'elementName': 'PoP', 'time': [{'startTime': '2023-03-30 12:00:00', 'endTime': '2023-03-30 18:00:00', 'parameter': {'parameterName': '20', 'parameterUnit': '百分比'}}, {'startTime': '2023-03-30 18:00:00', 'endTime': '2023-03-31 06:00:00', 'parameter': {'parameterName': '20', 'parameterUnit': '百分比'}}, {'startTime': '2023-03-31 06:00:00', 'endTime': '2023-03-31 18:00:00', 'parameter': {'parameterName': '10', 'parameterUnit': '百分比'}}]}, {'elementName': 'MinT', 'time': [{'startTime': '2023-03-30 12:00:00', 'endTime': '2023-03-30 18:00:00', 'parameter': {'parameterName': '21', 'parameterUnit': 'C'}}, {'startTime': '2023-03-30 18:00:00', 'endTime': '2023-03-31 06:00:00', 'parameter': {'parameterName': '18', 'parameterUnit': 'C'}}, {'startTime': '2023-03-31 06:00:00', 'endTime': '2023-03-31 18:00:00', 'parameter': {'parameterName': '18', 'parameterUnit': 'C'}}]}, {'elementName': 'CI', 'time': [{'startTime': '2023-03-30 12:00:00', 'endTime': '2023-03-30 18:00:00', 'parameter': {'parameterName': '舒適'}}, {'startTime': '2023-03-30 18:00:00', 'endTime': '2023-03-31 06:00:00', 'parameter': {'parameterName': '稍有寒意至舒適'}}, {'startTime': '2023-03-31 06:00:00', 'endTime': '2023-03-31 18:00:00', 'parameter': {'parameterName': '稍有寒意至舒適'}}]}, {'elementName': 'MaxT', 'time': [{'startTime': '2023-03-30 12:00:00', 'endTime': '2023-03-30 18:00:00', 'parameter': {'parameterName': '24', 'parameterUnit': 'C'}}, {'startTime': '2023-03-30 18:00:00', 'endTime': '2023-03-31 06:00:00', 'parameter': {'parameterName': '21', 'parameterUnit': 'C'}}, {'startTime': '2023-03-31 06:00:00', 'endTime': '2023-03-31 18:00:00', 'parameter': {'parameterName': '25', 'parameterUnit': 'C'}}]}]}, {'locationName': '連江縣', 'weatherElement': [{'elementName': 'Wx', 'time': [{'startTime': '2023-03-30 12:00:00', 'endTime': '2023-03-30 18:00:00', 'parameter': {'parameterName': '多雲短暫雨', 'parameterValue': '8'}}, {'startTime': '2023-03-30 18:00:00', 'endTime': '2023-03-31 06:00:00', 'parameter': {'parameterName': '多雲短暫雨', 'parameterValue': '8'}}, {'startTime': '2023-03-31 06:00:00', 'endTime': '2023-03-31 18:00:00', 'parameter': {'parameterName': '多雲短暫雨', 'parameterValue': '8'}}]}, {'elementName': 'PoP', 'time': [{'startTime': '2023-03-30 12:00:00', 'endTime': '2023-03-30 18:00:00', 'parameter': {'parameterName': '30', 'parameterUnit': '百分比'}}, {'startTime': '2023-03-30 18:00:00', 'endTime': '2023-03-31 06:00:00', 'parameter': {'parameterName': '30', 'parameterUnit': '百分比'}}, {'startTime': '2023-03-31 06:00:00', 'endTime': '2023-03-31 18:00:00', 'parameter': {'parameterName': '30', 'parameterUnit': '百分比'}}]}, {'elementName': 'MinT', 'time': [{'startTime': '2023-03-30 12:00:00', 'endTime': '2023-03-30 18:00:00', 'parameter': {'parameterName': '13', 'parameterUnit': 'C'}}, {'startTime': '2023-03-30 18:00:00', 'endTime': '2023-03-31 06:00:00', 'parameter': {'parameterName': '12', 'parameterUnit': 'C'}}, {'startTime': '2023-03-31 06:00:00', 'endTime': '2023-03-31 18:00:00', 'parameter': {'parameterName': '12', 'parameterUnit': 'C'}}]}, {'elementName': 'CI', 'time': [{'startTime': '2023-03-30 12:00:00', 'endTime': '2023-03-30 18:00:00', 'parameter': {'parameterName': '寒冷'}}, {'startTime': '2023-03-30 18:00:00', 'endTime': '2023-03-31 06:00:00', 'parameter': {'parameterName': '寒冷'}}, {'startTime': '2023-03-31 06:00:00', 'endTime': '2023-03-31 18:00:00', 'parameter': {'parameterName': '寒冷至稍有寒意'}}]}, {'elementName': 'MaxT', 'time': [{'startTime': '2023-03-30 12:00:00', 'endTime': '2023-03-30 18:00:00', 'parameter': {'parameterName': '15', 'parameterUnit': 'C'}}, {'startTime': '2023-03-30 18:00:00', 'endTime': '2023-03-31 06:00:00', 'parameter': {'parameterName': '13', 'parameterUnit': 'C'}}, {'startTime': '2023-03-31 06:00:00', 'endTime': '2023-03-31 18:00:00', 'parameter': {'parameterName': '17', 'parameterUnit': 'C'}}]}]}]}}\n",
            "嘉義縣未來 8 小時晴時多雲，最高溫 10 度，最低溫 23 度，降雨機率 27 %\n",
            "新北市未來 8 小時陰天，最高溫 20 度，最低溫 19 度，降雨機率 20 %\n",
            "嘉義市未來 8 小時晴時多雲，最高溫 10 度，最低溫 23 度，降雨機率 28 %\n",
            "新竹縣未來 8 小時陰時多雲，最高溫 20 度，最低溫 19 度，降雨機率 21 %\n",
            "新竹市未來 8 小時陰天，最高溫 20 度，最低溫 19 度，降雨機率 21 %\n",
            "臺北市未來 8 小時陰天，最高溫 20 度，最低溫 18 度，降雨機率 20 %\n",
            "臺南市未來 8 小時晴時多雲，最高溫 10 度，最低溫 24 度，降雨機率 27 %\n",
            "宜蘭縣未來 8 小時陰天，最高溫 20 度，最低溫 21 度，降雨機率 24 %\n",
            "苗栗縣未來 8 小時多雲，最高溫 20 度，最低溫 20 度，降雨機率 22 %\n",
            "雲林縣未來 8 小時多雲時晴，最高溫 10 度，最低溫 22 度，降雨機率 25 %\n",
            "花蓮縣未來 8 小時陰天，最高溫 20 度，最低溫 22 度，降雨機率 24 %\n",
            "臺中市未來 8 小時晴時多雲，最高溫 20 度，最低溫 23 度，降雨機率 26 %\n",
            "臺東縣未來 8 小時多雲時陰短暫雨，最高溫 50 度，最低溫 25 度，降雨機率 28 %\n",
            "桃園市未來 8 小時陰時多雲，最高溫 20 度，最低溫 19 度，降雨機率 20 %\n",
            "南投縣未來 8 小時多雲時晴，最高溫 20 度，最低溫 23 度，降雨機率 25 %\n",
            "高雄市未來 8 小時晴時多雲，最高溫 10 度，最低溫 26 度，降雨機率 29 %\n",
            "金門縣未來 8 小時多雲短暫雨，最高溫 30 度，最低溫 17 度，降雨機率 20 %\n",
            "屏東縣未來 8 小時晴時多雲，最高溫 10 度，最低溫 28 度，降雨機率 32 %\n",
            "基隆市未來 8 小時陰天，最高溫 20 度，最低溫 17 度，降雨機率 19 %\n",
            "澎湖縣未來 8 小時多雲短暫雨，最高溫 30 度，最低溫 20 度，降雨機率 23 %\n",
            "彰化縣未來 8 小時晴時多雲，最高溫 20 度，最低溫 21 度，降雨機率 24 %\n",
            "連江縣未來 8 小時多雲短暫雨，最高溫 30 度，最低溫 13 度，降雨機率 15 %\n"
          ]
        }
      ]
    },
    {
      "cell_type": "code",
      "source": [
        "import requests\n",
        "from bs4 import BeautifulSoup\n",
        "\n",
        "r = requests.get(\"https://www.google.com/search?q=%E6%9E%97%E5%AD%90%E7%85%92&rlz=1C1CHZN_zh-TWTW970TW970&oq=%E6%9E%97%E5%AD%90%E7%85%92&aqs=chrome.0.0i355i512j46i512.9986j0j7&sourceid=chrome&ie=UTF-8\") #將網頁資料GET下來\n",
        "soup = BeautifulSoup(r.text,\"html.parser\") #將網頁資料以html.parser\n",
        "sel = soup.select(\"h3\") #取HTML標中的 <div class=\"title\"></div> 中的<a>標籤存入sel\n",
        "for s in sel:\n",
        "    print(s.text) "
      ],
      "metadata": {
        "id": "7T_lCUsaXk8A",
        "colab": {
          "base_uri": "https://localhost:8080/"
        },
        "outputId": "64c32dcb-49db-4d7b-b19b-aedc97e657eb"
      },
      "execution_count": null,
      "outputs": [
        {
          "output_type": "stream",
          "name": "stdout",
          "text": [
            "林子煒\n",
            "季廷恩 - 師資| 逢甲大學-國際科技與管理學院\n",
            "師資| 逢甲大學-國際科技與管理學院\n",
            "林子煒- 深綠企業的軍警 - LinkedIn\n",
            "3 \"林子炜\" profiles - LinkedIn\n",
            "逢甲大學創能學院i-tool介紹之R語言篇 - YouTube\n",
            "兼任師資 - 資訊管理系\n",
            "林子煒- 關於我| StreetVoice 街聲- 最潮音樂社群\n",
            "林子炜(@mumuzihuowei) / Twitter\n",
            "請問(3692)人工智慧導論林子煒- 逢甲大學板 - Dcard\n"
          ]
        }
      ]
    },
    {
      "cell_type": "code",
      "source": [
        "one hot encoder2"
      ],
      "metadata": {
        "id": "idhePaqQ_wGr"
      },
      "execution_count": null,
      "outputs": []
    },
    {
      "cell_type": "code",
      "source": [],
      "metadata": {
        "id": "CQsFK_1AZ-8t"
      },
      "execution_count": null,
      "outputs": []
    }
  ]
}